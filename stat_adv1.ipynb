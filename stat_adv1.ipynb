{
  "nbformat": 4,
  "nbformat_minor": 0,
  "metadata": {
    "colab": {
      "provenance": []
    },
    "kernelspec": {
      "name": "python3",
      "display_name": "Python 3"
    },
    "language_info": {
      "name": "python"
    }
  },
  "cells": [
    {
      "cell_type": "markdown",
      "source": [
        "# Statistics Advance 1 Assignment\n",
        "1. What is a random variable in probability theory?\n",
        "-> In probability theory , random variable is a kind of variable whose value is not fixed like it can be flacktuating. For example outcome of a toss coin, sometimes its tail or head , anything can be happen.\n",
        "2. What are the types of random variables?\n",
        "-> Random variable is of two types . These are discreate random variable and continuous random variable.\n",
        "3. What is the difference between discrete and continuous distributions ?\n",
        "-> The main difference between discreate and continuous distribution is in case of discreate distributions the total number of outcomes are finite but in case of continuous distribution the number of outcomes are infinite.\n",
        "4. What are probability distribution functions (PDF) ?\n",
        "-> Probability distribution functions (PDFs) describe the likelihood of a continuous random variable taking on a specific value within a given range; they define the shape of the distribution, where the area under the curve within an interval represents the probability of the variable falling within that interva\n",
        "5. How do cumulative distribution functions (CDF) differ from probability distribution functions (PDF) ?\n",
        "-> PDF shows probability of each and every individual point but in case of CDF show the summation of each and every individual point, like if we took an example of points of {2,5,4,8,9}. While there 5 points are individually considered it is called then PDF. But when we do 2,7(2+5),11(2+7+4),19(2+7+4+8),28(2+7+4+8+9) then it is considered as CDF.\n",
        "6. What is a discrete uniform distribution ?\n",
        "-> Discreate uniform distribution is where in we can treat discreate random varible.Discreate uniform distribution is a kind of distribution when all the data points are separate and number of all data points are finite in nature.\n",
        "7. What are the key properties of a Bernoulli distribution ?\n",
        "-> The main key property of Bernouli distribution are the total number of experiment is one and it must be a discreate distribution.\n",
        "8. What is the binomial distribution, and how is it used in probability?\n",
        "-> Binomial distribution is also a type of discreate distribution like bernoulli. But the main difference is the number of experimant is n. So when we are suppose to do n number of experiment to find some probabilty ,so that it is very useful in probabilty.\n",
        "9. What is the Poisson distribution and where is it applied?\n",
        "-> Poisson distribution is also a kind of discrete random distribution. In case of poisson distribution the interval has been given that the experiment occured under the interval will be calculated.\n",
        "10. What is a continuous uniform distribution ?\n",
        "-> Continuous uniform distribution is where in we can treat continuous random varible.\n",
        "11. What are the characteristics of a normal distribution?\n",
        "-> The characteristics if Normal distribution are symmetric in nature and mean.median and mode is same and skewness is 0.\n",
        "12. What is the standard normal distribution, and why is it important ?\n",
        "-> Standard normal distribution is also kind of a normal distribution . But in this case the mean is 0 and standard daviation is 1.\n",
        "The imporatance of standard normal distribution, by using standard normal distribution we can generalize all kind of normal distribition in a single format.\n",
        "13. What is the Central Limit Theorem (CLT), and why is it critical in statistics ?\n",
        "-> The Central Limit Theorem (CLT) is a fundamental statistical concept stating that the distribution of the sample mean, when drawn from any population with a finite variance, will approximate a normal distribution as the sample size grows larger, regardless of the original population's distribution; this is critical because it underpins many statistical inference techniques, enabling us to use normal distribution-based methods to analyze sample means and make reliable conclusions about population parameters even when the population's distribution is unknown.\n",
        "14. How does the Central Limit Theorem relate to the normal distribution ?\n",
        "-> The CLT states that the distribution of sample means approaches a normal distribution as the sample size increases, regardless of the original population's distribution.\n",
        "15. What is the application of Z statistics in hypothesis testing?\n",
        "-> Z-statistics are used to test hypotheses about population means when the population standard deviation is known and the sample size is large, comparing the sample mean to a hypothesized population mean.\n",
        "16. How do you calculate a Z-score, and what does it represent?\n",
        "-> Z-score = (x - μ) / σ, where x is a data point, μ is the mean, and σ is the standard deviation. It represents how many standard deviations a data point is from the mean.\n",
        "17. What are point estimates and interval estimates in statistics?\n",
        "-> Point estimates are single values that estimate a population parameter (e.g., sample mean).Interval estimates (confidence intervals) provide a range of values within which the population parameter is likely to lie.\n",
        "18. What is the significance of confidence intervals in statistical analysis ?\n",
        "-> Confidence intervals provide a measure of the uncertainty surrounding a point estimate, indicating the range of plausible values for a population parameter.\n",
        "19. What is the relationship between a Z-score and a confidence interval?\n",
        "-> Z-scores are used to determine the margin of error in confidence intervals for population means when the population standard deviation is known.\n",
        "20. How are Z-scores used to compare different distributions?\n",
        "-> Z-scores standardize data from different distributions, allowing for direct comparison by expressing values in terms of standard deviations from their respective means.\n",
        "21. What are the assumptions for applying the Central Limit Theorem ?\n",
        "-> The assumptions are that the samples are independent and identically distributed (IID), and that the population has a finite variance.\n",
        "22. What is the concept of expected value in a probability distribution?\n",
        "-> Expected value is the weighted average of all possible values of a random variable, representing the long-run average outcome.\n",
        "23. How does a probability distribution relate to the expected outcome of a random variable?\n",
        "-> A probability distribution defines the likelihood of each possible outcome of a random variable, and the expected value is calculated from that distribution, representing the average outcome we'd expect over many trials."
      ],
      "metadata": {
        "id": "HZMXA8Bm6jgr"
      }
    },
    {
      "cell_type": "code",
      "execution_count": null,
      "metadata": {
        "id": "BVCivbs96eoJ"
      },
      "outputs": [],
      "source": []
    }
  ]
}